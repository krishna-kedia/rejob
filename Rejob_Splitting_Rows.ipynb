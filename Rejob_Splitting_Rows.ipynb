{
  "nbformat": 4,
  "nbformat_minor": 0,
  "metadata": {
    "colab": {
      "provenance": [],
      "mount_file_id": "1-C2jkVr2hk741bzR6zH4DVvZERGOARLA",
      "authorship_tag": "ABX9TyMTtATf/zYbzypt7T94itHL",
      "include_colab_link": true
    },
    "kernelspec": {
      "name": "python3",
      "display_name": "Python 3"
    },
    "language_info": {
      "name": "python"
    }
  },
  "cells": [
    {
      "cell_type": "markdown",
      "metadata": {
        "id": "view-in-github",
        "colab_type": "text"
      },
      "source": [
        "<a href=\"https://colab.research.google.com/github/krishna-kedia/rejob/blob/main/Rejob_Splitting_Rows.ipynb\" target=\"_parent\"><img src=\"https://colab.research.google.com/assets/colab-badge.svg\" alt=\"Open In Colab\"/></a>"
      ]
    },
    {
      "cell_type": "code",
      "execution_count": 1,
      "metadata": {
        "colab": {
          "base_uri": "https://localhost:8080/"
        },
        "id": "tcF-Bxo0qPkJ",
        "outputId": "58fd3236-093e-408d-bd48-1d7080794070"
      },
      "outputs": [
        {
          "output_type": "stream",
          "name": "stdout",
          "text": [
            "Collecting openai\n",
            "  Downloading openai-0.28.1-py3-none-any.whl (76 kB)\n",
            "\u001b[?25l     \u001b[90m━━━━━━━━━━━━━━━━━━━━━━━━━━━━━━━━━━━━━━━━\u001b[0m \u001b[32m0.0/77.0 kB\u001b[0m \u001b[31m?\u001b[0m eta \u001b[36m-:--:--\u001b[0m\r\u001b[2K     \u001b[91m━━━━━━━━━━━━━━━━━━━━━━━━━━━━━━━━━━━━━\u001b[0m\u001b[90m╺\u001b[0m\u001b[90m━━\u001b[0m \u001b[32m71.7/77.0 kB\u001b[0m \u001b[31m2.0 MB/s\u001b[0m eta \u001b[36m0:00:01\u001b[0m\r\u001b[2K     \u001b[90m━━━━━━━━━━━━━━━━━━━━━━━━━━━━━━━━━━━━━━━━\u001b[0m \u001b[32m77.0/77.0 kB\u001b[0m \u001b[31m1.8 MB/s\u001b[0m eta \u001b[36m0:00:00\u001b[0m\n",
            "\u001b[?25hRequirement already satisfied: requests>=2.20 in /usr/local/lib/python3.10/dist-packages (from openai) (2.31.0)\n",
            "Requirement already satisfied: tqdm in /usr/local/lib/python3.10/dist-packages (from openai) (4.66.1)\n",
            "Requirement already satisfied: aiohttp in /usr/local/lib/python3.10/dist-packages (from openai) (3.8.6)\n",
            "Requirement already satisfied: charset-normalizer<4,>=2 in /usr/local/lib/python3.10/dist-packages (from requests>=2.20->openai) (3.3.1)\n",
            "Requirement already satisfied: idna<4,>=2.5 in /usr/local/lib/python3.10/dist-packages (from requests>=2.20->openai) (3.4)\n",
            "Requirement already satisfied: urllib3<3,>=1.21.1 in /usr/local/lib/python3.10/dist-packages (from requests>=2.20->openai) (2.0.7)\n",
            "Requirement already satisfied: certifi>=2017.4.17 in /usr/local/lib/python3.10/dist-packages (from requests>=2.20->openai) (2023.7.22)\n",
            "Requirement already satisfied: attrs>=17.3.0 in /usr/local/lib/python3.10/dist-packages (from aiohttp->openai) (23.1.0)\n",
            "Requirement already satisfied: multidict<7.0,>=4.5 in /usr/local/lib/python3.10/dist-packages (from aiohttp->openai) (6.0.4)\n",
            "Requirement already satisfied: async-timeout<5.0,>=4.0.0a3 in /usr/local/lib/python3.10/dist-packages (from aiohttp->openai) (4.0.3)\n",
            "Requirement already satisfied: yarl<2.0,>=1.0 in /usr/local/lib/python3.10/dist-packages (from aiohttp->openai) (1.9.2)\n",
            "Requirement already satisfied: frozenlist>=1.1.1 in /usr/local/lib/python3.10/dist-packages (from aiohttp->openai) (1.4.0)\n",
            "Requirement already satisfied: aiosignal>=1.1.2 in /usr/local/lib/python3.10/dist-packages (from aiohttp->openai) (1.3.1)\n",
            "Installing collected packages: openai\n",
            "\u001b[31mERROR: pip's dependency resolver does not currently take into account all the packages that are installed. This behaviour is the source of the following dependency conflicts.\n",
            "llmx 0.0.15a0 requires cohere, which is not installed.\n",
            "llmx 0.0.15a0 requires tiktoken, which is not installed.\u001b[0m\u001b[31m\n",
            "\u001b[0mSuccessfully installed openai-0.28.1\n"
          ]
        }
      ],
      "source": [
        "!pip install openai\n",
        "import gspread\n",
        "import pandas as pd\n",
        "import json\n",
        "import csv\n",
        "import openai\n",
        "from oauth2client.service_account import ServiceAccountCredentials\n",
        "from geopy.geocoders import Nominatim\n",
        "from datetime import datetime"
      ]
    },
    {
      "cell_type": "code",
      "source": [
        "# Define the scope and credentials\n",
        "scope = ['https://spreadsheets.google.com/feeds', 'https://www.googleapis.com/auth/drive']\n",
        "creds = ServiceAccountCredentials.from_json_keyfile_name('/content/drive/MyDrive/Rejob/rejob-400801-2979a90a8937.json', scope)\n",
        "\n",
        "# Authenticate with Google Sheets\n",
        "client = gspread.authorize(creds)\n",
        "\n",
        "# Open the Google Sheet by title\n",
        "sheet = client.open('DTU')"
      ],
      "metadata": {
        "id": "gKxLNgu5qUjM"
      },
      "execution_count": null,
      "outputs": []
    },
    {
      "cell_type": "code",
      "source": [
        "# Select a specific worksheet (by title or index)\n",
        "worksheet = sheet.worksheet('DTU_new')\n",
        "data = worksheet.get_all_values()\n",
        "\n",
        "# Convert data to a pandas DataFrame\n",
        "alumni_data = pd.DataFrame(data[1:], columns=data[0])  # Assuming the first row contains column headers\n",
        "#display(alumni_data)\n",
        "\n",
        "filtered_alumni_data = alumni_data[alumni_data[\"Processed?\"] == \"Yes\"]\n",
        "to_be_split_alumni_data = filtered_alumni_data[filtered_alumni_data[\"Split into rows\"] != \"Yes\"]\n",
        "indices = to_be_split_alumni_data.index.to_numpy()\n",
        "display(indices, \"index\")\n",
        "job_sheet = sheet.worksheet('job_dtu')\n",
        "alum_data = []\n",
        "\n",
        "for index in indices:\n",
        "  alum = alumni_data.iloc[index]\n",
        "  if alum['jobJobTitle1']:\n",
        "    job_1 = [f\"{str(index)+'1'}\" ,alum['linkedinProfileUrl'], alum['jobJobTitle1'], alum['job_tag_1'], alum['job_type_1'], alum['job_duration_1'], alum['job_country_1'], alum['job_city_1']]\n",
        "    job_sheet.append_row(job_1)\n",
        "\n",
        "  if alum['jobJobTitle2']:\n",
        "    job_2 = [f\"{str(index)+'2'}\" ,alum['linkedinProfileUrl'], alum['jobJobTitle2'], alum['job_tag_2'], alum['job_type_2'], alum['job_duration_2'], alum['job_country_2'], alum['job_city_2']]\n",
        "    job_sheet.append_row(job_2)\n",
        "\n",
        "  if alum['jobJobTitle3']:\n",
        "    job_3 = [f\"{str(index)+'3'}\" ,alum['linkedinProfileUrl'], alum['jobJobTitle3'], alum['job_tag_3'], alum['job_type_3'], alum['job_duration_3'], alum['job_country_3'], alum['job_city_3']]\n",
        "    job_sheet.append_row(job_3)\n",
        "\n",
        "  if alum['jobJobTitle4']:\n",
        "    job_4 = [f\"{str(index)+'4'}\" ,alum['linkedinProfileUrl'], alum['jobJobTitle4'], alum['job_tag_4'], alum['job_type_4'], alum['job_duration_4'], alum['job_country_4'], alum['job_city_4']]\n",
        "    job_sheet.append_row(job_4)\n",
        "\n",
        "  if alum['jobJobTitle5']:\n",
        "    job_5 = [f\"{str(index)+'5'}\" ,alum['linkedinProfileUrl'], alum['jobJobTitle5'], alum['job_tag_5'], alum['job_type_5'], alum['job_duration_5'], alum['job_country_5'], alum['job_city_5']]\n",
        "    job_sheet.append_row(job_5)\n",
        "\n",
        "  flag_range = f\"EK{index+2}\"\n",
        "  worksheet.update(flag_range, \"Yes\")\n"
      ],
      "metadata": {
        "colab": {
          "base_uri": "https://localhost:8080/",
          "height": 1000
        },
        "id": "RxyfEob5qaFr",
        "outputId": "5100a945-ccb2-4126-f5d9-704533525cf3"
      },
      "execution_count": 23,
      "outputs": [
        {
          "output_type": "display_data",
          "data": {
            "text/plain": [
              "array([178, 179, 182, 183, 192, 195, 197, 198, 199, 200, 201, 203, 205,\n",
              "       206, 207, 208, 210, 212, 213, 214, 216, 217, 219, 220, 223, 226,\n",
              "       228, 231, 232, 233, 235, 236, 237, 239, 242, 243, 246, 249, 250,\n",
              "       251, 252, 253, 254, 255, 256, 257, 258, 259, 260, 261, 263, 265,\n",
              "       267, 268, 269, 270, 272, 274, 275, 276, 277, 278, 279, 281, 282,\n",
              "       283, 284, 286, 287, 289, 290, 293, 294, 295, 297, 299, 300, 303,\n",
              "       304, 305, 306, 307, 308, 309, 310, 311, 312, 313, 315, 316, 317,\n",
              "       318, 319, 320, 321, 323, 324, 325, 326, 328, 330, 331, 332, 333,\n",
              "       334, 335, 336, 337, 339, 342, 343, 346, 347, 348, 350, 352, 355,\n",
              "       356, 357, 358, 359, 360, 361, 362, 363, 364, 365, 366, 367, 369,\n",
              "       370, 371, 372, 373, 374, 375, 376, 377, 378, 380, 381, 382, 383,\n",
              "       384, 385, 388, 389, 390, 393, 394, 395, 398, 399, 400, 401, 403,\n",
              "       406, 407, 408, 409, 410, 411, 412, 413, 414, 417, 418, 419, 421,\n",
              "       422, 423, 424, 425, 426, 427, 428, 429, 430, 431, 433, 435, 436,\n",
              "       437, 439, 440, 441, 443, 444, 446, 447, 448, 449, 450, 451, 452,\n",
              "       453, 454, 455, 456, 457, 459, 462, 464, 465, 467, 468, 469, 470,\n",
              "       471, 472, 474, 478, 479, 480, 481, 482, 485, 487, 488, 492, 493,\n",
              "       494, 495, 496, 499, 501, 503, 506, 508, 511, 512, 514, 516, 517,\n",
              "       518, 519, 520, 522, 523, 524, 526, 527, 528, 529, 530, 531, 532,\n",
              "       533, 534, 536, 537, 538, 539, 540, 541, 542, 543, 544, 545, 546,\n",
              "       547, 548, 549, 551, 552, 553, 554, 555, 556, 557, 559, 562, 563,\n",
              "       564, 565, 567, 569, 572, 574, 576, 579, 580, 581, 582, 583, 585,\n",
              "       586, 587, 588, 590, 591, 592, 593, 599, 600, 601, 602, 603, 605,\n",
              "       606, 610, 611, 612, 614, 615, 616, 617, 618, 619, 620, 621, 622,\n",
              "       624, 627, 628, 629, 631, 632, 633, 635, 637, 638, 639, 641, 642,\n",
              "       643, 644, 645, 647, 649, 650, 651, 653, 655, 656, 657, 658, 659,\n",
              "       660, 662, 663, 665, 666, 667, 668, 669, 670, 672, 673, 675, 677,\n",
              "       680, 681, 682, 684, 685, 687, 688, 690, 691, 698])"
            ]
          },
          "metadata": {}
        },
        {
          "output_type": "display_data",
          "data": {
            "text/plain": [
              "'index'"
            ],
            "application/vnd.google.colaboratory.intrinsic+json": {
              "type": "string"
            }
          },
          "metadata": {}
        },
        {
          "output_type": "error",
          "ename": "APIError",
          "evalue": "ignored",
          "traceback": [
            "\u001b[0;31m---------------------------------------------------------------------------\u001b[0m",
            "\u001b[0;31mAPIError\u001b[0m                                  Traceback (most recent call last)",
            "\u001b[0;32m<ipython-input-23-0f8e856f1016>\u001b[0m in \u001b[0;36m<cell line: 16>\u001b[0;34m()\u001b[0m\n\u001b[1;32m     26\u001b[0m   \u001b[0;32mif\u001b[0m \u001b[0malum\u001b[0m\u001b[0;34m[\u001b[0m\u001b[0;34m'jobJobTitle3'\u001b[0m\u001b[0;34m]\u001b[0m\u001b[0;34m:\u001b[0m\u001b[0;34m\u001b[0m\u001b[0;34m\u001b[0m\u001b[0m\n\u001b[1;32m     27\u001b[0m     \u001b[0mjob_3\u001b[0m \u001b[0;34m=\u001b[0m \u001b[0;34m[\u001b[0m\u001b[0;34mf\"{str(index)+'3'}\"\u001b[0m \u001b[0;34m,\u001b[0m\u001b[0malum\u001b[0m\u001b[0;34m[\u001b[0m\u001b[0;34m'linkedinProfileUrl'\u001b[0m\u001b[0;34m]\u001b[0m\u001b[0;34m,\u001b[0m \u001b[0malum\u001b[0m\u001b[0;34m[\u001b[0m\u001b[0;34m'jobJobTitle3'\u001b[0m\u001b[0;34m]\u001b[0m\u001b[0;34m,\u001b[0m \u001b[0malum\u001b[0m\u001b[0;34m[\u001b[0m\u001b[0;34m'job_tag_3'\u001b[0m\u001b[0;34m]\u001b[0m\u001b[0;34m,\u001b[0m \u001b[0malum\u001b[0m\u001b[0;34m[\u001b[0m\u001b[0;34m'job_type_3'\u001b[0m\u001b[0;34m]\u001b[0m\u001b[0;34m,\u001b[0m \u001b[0malum\u001b[0m\u001b[0;34m[\u001b[0m\u001b[0;34m'job_duration_3'\u001b[0m\u001b[0;34m]\u001b[0m\u001b[0;34m,\u001b[0m \u001b[0malum\u001b[0m\u001b[0;34m[\u001b[0m\u001b[0;34m'job_country_3'\u001b[0m\u001b[0;34m]\u001b[0m\u001b[0;34m,\u001b[0m \u001b[0malum\u001b[0m\u001b[0;34m[\u001b[0m\u001b[0;34m'job_city_3'\u001b[0m\u001b[0;34m]\u001b[0m\u001b[0;34m]\u001b[0m\u001b[0;34m\u001b[0m\u001b[0;34m\u001b[0m\u001b[0m\n\u001b[0;32m---> 28\u001b[0;31m     \u001b[0mjob_sheet\u001b[0m\u001b[0;34m.\u001b[0m\u001b[0mappend_row\u001b[0m\u001b[0;34m(\u001b[0m\u001b[0mjob_3\u001b[0m\u001b[0;34m)\u001b[0m\u001b[0;34m\u001b[0m\u001b[0;34m\u001b[0m\u001b[0m\n\u001b[0m\u001b[1;32m     29\u001b[0m \u001b[0;34m\u001b[0m\u001b[0m\n\u001b[1;32m     30\u001b[0m   \u001b[0;32mif\u001b[0m \u001b[0malum\u001b[0m\u001b[0;34m[\u001b[0m\u001b[0;34m'jobJobTitle4'\u001b[0m\u001b[0;34m]\u001b[0m\u001b[0;34m:\u001b[0m\u001b[0;34m\u001b[0m\u001b[0;34m\u001b[0m\u001b[0m\n",
            "\u001b[0;32m/usr/local/lib/python3.10/dist-packages/gspread/models.py\u001b[0m in \u001b[0;36mappend_row\u001b[0;34m(self, values, value_input_option, insert_data_option, table_range)\u001b[0m\n\u001b[1;32m   1444\u001b[0m \u001b[0;34m\u001b[0m\u001b[0m\n\u001b[1;32m   1445\u001b[0m         \"\"\"\n\u001b[0;32m-> 1446\u001b[0;31m         return self.append_rows(\n\u001b[0m\u001b[1;32m   1447\u001b[0m             \u001b[0;34m[\u001b[0m\u001b[0mvalues\u001b[0m\u001b[0;34m]\u001b[0m\u001b[0;34m,\u001b[0m\u001b[0;34m\u001b[0m\u001b[0;34m\u001b[0m\u001b[0m\n\u001b[1;32m   1448\u001b[0m             \u001b[0mvalue_input_option\u001b[0m\u001b[0;34m=\u001b[0m\u001b[0mvalue_input_option\u001b[0m\u001b[0;34m,\u001b[0m\u001b[0;34m\u001b[0m\u001b[0;34m\u001b[0m\u001b[0m\n",
            "\u001b[0;32m/usr/local/lib/python3.10/dist-packages/gspread/models.py\u001b[0m in \u001b[0;36mappend_rows\u001b[0;34m(self, values, value_input_option, insert_data_option, table_range)\u001b[0m\n\u001b[1;32m   1492\u001b[0m         }\n\u001b[1;32m   1493\u001b[0m \u001b[0;34m\u001b[0m\u001b[0m\n\u001b[0;32m-> 1494\u001b[0;31m         \u001b[0;32mreturn\u001b[0m \u001b[0mself\u001b[0m\u001b[0;34m.\u001b[0m\u001b[0mspreadsheet\u001b[0m\u001b[0;34m.\u001b[0m\u001b[0mvalues_append\u001b[0m\u001b[0;34m(\u001b[0m\u001b[0mrange_label\u001b[0m\u001b[0;34m,\u001b[0m \u001b[0mparams\u001b[0m\u001b[0;34m,\u001b[0m \u001b[0mbody\u001b[0m\u001b[0;34m)\u001b[0m\u001b[0;34m\u001b[0m\u001b[0;34m\u001b[0m\u001b[0m\n\u001b[0m\u001b[1;32m   1495\u001b[0m \u001b[0;34m\u001b[0m\u001b[0m\n\u001b[1;32m   1496\u001b[0m     def insert_row(\n",
            "\u001b[0;32m/usr/local/lib/python3.10/dist-packages/gspread/models.py\u001b[0m in \u001b[0;36mvalues_append\u001b[0;34m(self, range, params, body)\u001b[0m\n\u001b[1;32m    161\u001b[0m         \"\"\"\n\u001b[1;32m    162\u001b[0m         \u001b[0murl\u001b[0m \u001b[0;34m=\u001b[0m \u001b[0mSPREADSHEET_VALUES_APPEND_URL\u001b[0m \u001b[0;34m%\u001b[0m \u001b[0;34m(\u001b[0m\u001b[0mself\u001b[0m\u001b[0;34m.\u001b[0m\u001b[0mid\u001b[0m\u001b[0;34m,\u001b[0m \u001b[0mquote\u001b[0m\u001b[0;34m(\u001b[0m\u001b[0mrange\u001b[0m\u001b[0;34m)\u001b[0m\u001b[0;34m)\u001b[0m\u001b[0;34m\u001b[0m\u001b[0;34m\u001b[0m\u001b[0m\n\u001b[0;32m--> 163\u001b[0;31m         \u001b[0mr\u001b[0m \u001b[0;34m=\u001b[0m \u001b[0mself\u001b[0m\u001b[0;34m.\u001b[0m\u001b[0mclient\u001b[0m\u001b[0;34m.\u001b[0m\u001b[0mrequest\u001b[0m\u001b[0;34m(\u001b[0m\u001b[0;34m'post'\u001b[0m\u001b[0;34m,\u001b[0m \u001b[0murl\u001b[0m\u001b[0;34m,\u001b[0m \u001b[0mparams\u001b[0m\u001b[0;34m=\u001b[0m\u001b[0mparams\u001b[0m\u001b[0;34m,\u001b[0m \u001b[0mjson\u001b[0m\u001b[0;34m=\u001b[0m\u001b[0mbody\u001b[0m\u001b[0;34m)\u001b[0m\u001b[0;34m\u001b[0m\u001b[0;34m\u001b[0m\u001b[0m\n\u001b[0m\u001b[1;32m    164\u001b[0m         \u001b[0;32mreturn\u001b[0m \u001b[0mr\u001b[0m\u001b[0;34m.\u001b[0m\u001b[0mjson\u001b[0m\u001b[0;34m(\u001b[0m\u001b[0;34m)\u001b[0m\u001b[0;34m\u001b[0m\u001b[0;34m\u001b[0m\u001b[0m\n\u001b[1;32m    165\u001b[0m \u001b[0;34m\u001b[0m\u001b[0m\n",
            "\u001b[0;32m/usr/local/lib/python3.10/dist-packages/gspread/client.py\u001b[0m in \u001b[0;36mrequest\u001b[0;34m(self, method, endpoint, params, data, json, files, headers)\u001b[0m\n\u001b[1;32m     71\u001b[0m             \u001b[0;32mreturn\u001b[0m \u001b[0mresponse\u001b[0m\u001b[0;34m\u001b[0m\u001b[0;34m\u001b[0m\u001b[0m\n\u001b[1;32m     72\u001b[0m         \u001b[0;32melse\u001b[0m\u001b[0;34m:\u001b[0m\u001b[0;34m\u001b[0m\u001b[0;34m\u001b[0m\u001b[0m\n\u001b[0;32m---> 73\u001b[0;31m             \u001b[0;32mraise\u001b[0m \u001b[0mAPIError\u001b[0m\u001b[0;34m(\u001b[0m\u001b[0mresponse\u001b[0m\u001b[0;34m)\u001b[0m\u001b[0;34m\u001b[0m\u001b[0;34m\u001b[0m\u001b[0m\n\u001b[0m\u001b[1;32m     74\u001b[0m \u001b[0;34m\u001b[0m\u001b[0m\n\u001b[1;32m     75\u001b[0m     \u001b[0;32mdef\u001b[0m \u001b[0mlist_spreadsheet_files\u001b[0m\u001b[0;34m(\u001b[0m\u001b[0mself\u001b[0m\u001b[0;34m,\u001b[0m \u001b[0mtitle\u001b[0m\u001b[0;34m=\u001b[0m\u001b[0;32mNone\u001b[0m\u001b[0;34m)\u001b[0m\u001b[0;34m:\u001b[0m\u001b[0;34m\u001b[0m\u001b[0;34m\u001b[0m\u001b[0m\n",
            "\u001b[0;31mAPIError\u001b[0m: {'code': 429, 'message': \"Quota exceeded for quota metric 'Write requests' and limit 'Write requests per minute per user' of service 'sheets.googleapis.com' for consumer 'project_number:499619537524'.\", 'status': 'RESOURCE_EXHAUSTED', 'details': [{'@type': 'type.googleapis.com/google.rpc.ErrorInfo', 'reason': 'RATE_LIMIT_EXCEEDED', 'domain': 'googleapis.com', 'metadata': {'quota_location': 'global', 'service': 'sheets.googleapis.com', 'quota_metric': 'sheets.googleapis.com/write_requests', 'consumer': 'projects/499619537524', 'quota_limit_value': '60', 'quota_limit': 'WriteRequestsPerMinutePerUser'}}, {'@type': 'type.googleapis.com/google.rpc.Help', 'links': [{'description': 'Request a higher quota limit.', 'url': 'https://cloud.google.com/docs/quota#requesting_higher_quota'}]}]}"
          ]
        }
      ]
    },
    {
      "cell_type": "code",
      "source": [],
      "metadata": {
        "id": "AdRTyBJkd2ke"
      },
      "execution_count": null,
      "outputs": []
    }
  ]
}